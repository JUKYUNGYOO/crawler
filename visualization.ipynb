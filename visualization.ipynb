{
  "nbformat": 4,
  "nbformat_minor": 0,
  "metadata": {
    "colab": {
      "name": "visualization.ipynb",
      "provenance": [],
      "collapsed_sections": [],
      "include_colab_link": true
    },
    "kernelspec": {
      "name": "python3",
      "display_name": "Python 3"
    }
  },
  "cells": [
    {
      "cell_type": "markdown",
      "metadata": {
        "id": "view-in-github",
        "colab_type": "text"
      },
      "source": [
        "<a href=\"https://colab.research.google.com/github/JUKYUNGYOO/crawler/blob/master/visualization.ipynb\" target=\"_parent\"><img src=\"https://colab.research.google.com/assets/colab-badge.svg\" alt=\"Open In Colab\"/></a>"
      ]
    },
    {
      "cell_type": "code",
      "metadata": {
        "id": "v7AjBwQ9UgjJ",
        "colab_type": "code",
        "colab": {
          "base_uri": "https://localhost:8080/",
          "height": 1000
        },
        "outputId": "e7e766a7-87ba-4b16-ce36-6f4a30684bf6"
      },
      "source": [
        "import urllib.request\n",
        "from bs4 import BeautifulSoup\n",
        "import pandas as pd\n",
        "import matplotlib\n",
        "import matplotlib.pyplot as plt\n",
        "\n",
        "class Review:\n",
        "    def __init__(self, comment, date, star, good, bad):\n",
        "        self.comment = comment\n",
        "        self.date = date\n",
        "        self.star = star\n",
        "        self.good = good\n",
        "        self.bad = bad\n",
        "\n",
        "    def show(self):\n",
        "        print(\"내용:\" + self.comment +\n",
        "              \"\\n날짜:\" + self.date +\n",
        "              \"\\n별정:\" + self.star +\n",
        "              \"\\n좋아요:\" + self.good +\n",
        "              \"\\n싫어요:\" + self.bad)\n",
        "def crawl(url):\n",
        "    soup = BeautifulSoup(urllib.request.urlopen(url).read(), \"html.parser\")\n",
        "    review_list = []\n",
        "    # h_movie 클래스의 h3 태그에 포함되어 있는 a태그를 찾아서\n",
        "    title = soup.find('h3', class_='h_movie').find('a').text.strip()\n",
        "    # div클래스 의 score_result 클래스\n",
        "    div = soup.find(\"div\", class_=\"score_result\")\n",
        "    data_list = div.select(\"ul > li\")\n",
        "# ul 태그에 포함되어 있는 li 태그\n",
        "\n",
        "    for review in data_list:\n",
        "        star = review.find(\"div\", class_=\"star_score\").text.strip()\n",
        "        reply = review.find(\"div\", class_=\"score_reple\")\n",
        "        comment = reply.find(\"p\").text.strip()\n",
        "         # dt태그안에 em태그의 두번째가 날짜\n",
        "        date = reply.select(\"dt > em\")[1].text.strip()\n",
        "        button = review.find(\"div\", class_=\"btn_area\")\n",
        "        sympathy = button.select(\"a > strong\")\n",
        "        good = sympathy[0].text\n",
        "        bad = sympathy[1].text\n",
        "        review_list.append(Review(comment, date, star, good, bad))\n",
        "\n",
        "    return title, review_list\n",
        "title, review_list = crawl('https://movie.naver.com/movie/bi/mi/basic.nhn?code=36944')\n",
        "print('제목:' + title)\n",
        "for review in review_list:\n",
        "    review.show()\n",
        "\n",
        "def get_summary(review_list):\n",
        "    star_list = []\n",
        "    good_list = []\n",
        "    bad_list = []\n",
        "\n",
        "    for review in review_list:\n",
        "        star_list.append(int(review.star))\n",
        "        good_list.append(int(review.good))\n",
        "        bad_list.append(int(review.bad))\n",
        "\n",
        "    star_series = pd.Series(star_list)\n",
        "    good_series = pd.Series(good_list)\n",
        "    bad_series = pd.Series(bad_list)\n",
        "\n",
        "    summary = pd.DataFrame({\n",
        "\n",
        "        'Star ': star_series,\n",
        "        'Good ': good_series,\n",
        "        'Bad' : bad_series,\n",
        "        'Score' : good_series/ (good_series+bad_series)\n",
        "    })\n",
        "\n",
        "    return summary\n",
        "\n",
        "\n",
        "movie_code_list = [136900,167657,174321,184859,167391,186367,189035,175045]\n",
        "\n",
        "review_lists = []\n",
        "for i in movie_code_list:\n",
        "    title, review_list = crawl(\"https://movie.naver.com/movie/bi/mi/basic.nhn?code=\" + str(i))\n",
        "    summary = get_summary(review_list)\n",
        "    print(\"[ %s ]\" % (title))\n",
        "    print(summary)\n",
        "    review_lists.append((title, review_list))\n",
        "\n",
        "\n"
      ],
      "execution_count": 6,
      "outputs": [
        {
          "output_type": "stream",
          "text": [
            "제목:올드보이\n",
            "내용:이 영화는 필요 이상으로 너무 잘만들었다. 인간이 만든 작품이 아니다.\n",
            "날짜:2013.06.09 17:59\n",
            "별정:10\n",
            "좋아요:2912\n",
            "싫어요:174\n",
            "내용:충격적인 영화 촬영 기법, 스토리, 눈물샘을 자극시키는 사운드트랙. 대중영화 예술에 큰 기여를 한 혁명적인 영화.\n",
            "날짜:2013.06.09 01:08\n",
            "별정:10\n",
            "좋아요:1870\n",
            "싫어요:76\n",
            "내용:사람은 상상력이 있어서 비겁해 지는거래...\n",
            "날짜:2013.07.17 14:26\n",
            "별정:10\n",
            "좋아요:1667\n",
            "싫어요:62\n",
            "내용:10년만에 다시 본 올드보이. 역시 최고였다.\n",
            "날짜:2013.07.28 01:53\n",
            "별정:10\n",
            "좋아요:1289\n",
            "싫어요:61\n",
            "내용:지금껏본 영화중 제일 재미있었다스토리 전개 하나도나무랄데 없는 작품\n",
            "날짜:2013.06.06 23:11\n",
            "별정:10\n",
            "좋아요:1132\n",
            "싫어요:66\n",
            "[ 어벤져스: 엔드게임 ]\n",
            "   Star   Good   Bad     Score\n",
            "0     10  22717  640  0.972599\n",
            "1     10  14974  424  0.972464\n",
            "2     10  14582  451  0.969999\n",
            "3     10  12556  519  0.960306\n",
            "4     10  11322  409  0.965135\n",
            "[ 명탐정 피카츄 ]\n",
            "   Star   Good   Bad     Score\n",
            "0     10   1886  103  0.948215\n",
            "1     10    950   82  0.920543\n",
            "2     10    805   71  0.918950\n",
            "3      8    928  283  0.766309\n",
            "4      8    589   35  0.943910\n",
            "[ 고양이 여행 리포트 ]\n",
            "   Star   Good   Bad     Score\n",
            "0     10     61    5  0.924242\n",
            "1     10     37    3  0.925000\n",
            "2     10     24    2  0.923077\n",
            "3     10     26    4  0.866667\n",
            "4      6     40   19  0.677966\n",
            "[ 물의 기억 ]\n",
            "   Star   Good   Bad     Score\n",
            "0     10     28   10  0.736842\n",
            "1     10     26   10  0.722222\n",
            "2     10     23    9  0.718750\n",
            "3     10     14    2  0.875000\n",
            "4     10     18    6  0.750000\n",
            "[ 더 캡틴 ]\n",
            "   Star   Good   Bad     Score\n",
            "0      9     70   11  0.864198\n",
            "1     10     38    4  0.904762\n",
            "2     10     37    7  0.840909\n",
            "3      8     30    5  0.857143\n",
            "4      8     22    0  1.000000\n",
            "[ 빅 위시 ]\n",
            "   Star   Good   Bad     Score\n",
            "0      4      7    1  0.875000\n",
            "1      6      6    2  0.750000\n",
            "2      4      4    1  0.800000\n",
            "3      2      5    2  0.714286\n",
            "4      2      3    1  0.750000\n",
            "[ 빅 2: 황금열쇠 대소동 ]\n",
            "   Star   Good   Bad     Score\n",
            "0      1      2    0  1.000000\n",
            "1      1      3    1  0.750000\n",
            "2     10      3    1  0.750000\n",
            "3      8      4    2  0.666667\n",
            "4     10      5    3  0.625000\n",
            "[ 경계선 ]\n",
            "   Star   Good   Bad     Score\n",
            "0      8     18    1  0.947368\n",
            "1      8     23    6  0.793103\n",
            "2      8     21    5  0.807692\n",
            "3     10     16    2  0.888889\n",
            "4      9     13    0  1.000000\n"
          ],
          "name": "stdout"
        }
      ]
    },
    {
      "cell_type": "code",
      "metadata": {
        "id": "kD2jSAFtUkYP",
        "colab_type": "code",
        "colab": {
          "base_uri": "https://localhost:8080/",
          "height": 323
        },
        "outputId": "ebb72c44-d28e-4ef0-c1af-61193b6dec14"
      },
      "source": [
        "!apt-get update -qq\n",
        "!apt-get install fonts-nanum* -qq"
      ],
      "execution_count": 2,
      "outputs": [
        {
          "output_type": "stream",
          "text": [
            "Selecting previously unselected package fonts-nanum.\n",
            "(Reading database ... 132681 files and directories currently installed.)\n",
            "Preparing to unpack .../fonts-nanum_20170925-1_all.deb ...\n",
            "Unpacking fonts-nanum (20170925-1) ...\n",
            "Selecting previously unselected package fonts-nanum-eco.\n",
            "Preparing to unpack .../fonts-nanum-eco_1.000-6_all.deb ...\n",
            "Unpacking fonts-nanum-eco (1.000-6) ...\n",
            "Selecting previously unselected package fonts-nanum-extra.\n",
            "Preparing to unpack .../fonts-nanum-extra_20170925-1_all.deb ...\n",
            "Unpacking fonts-nanum-extra (20170925-1) ...\n",
            "Selecting previously unselected package fonts-nanum-coding.\n",
            "Preparing to unpack .../fonts-nanum-coding_2.5-1_all.deb ...\n",
            "Unpacking fonts-nanum-coding (2.5-1) ...\n",
            "Setting up fonts-nanum-extra (20170925-1) ...\n",
            "Setting up fonts-nanum (20170925-1) ...\n",
            "Setting up fonts-nanum-coding (2.5-1) ...\n",
            "Setting up fonts-nanum-eco (1.000-6) ...\n",
            "Processing triggers for fontconfig (2.12.6-0ubuntu2) ...\n"
          ],
          "name": "stdout"
        }
      ]
    },
    {
      "cell_type": "code",
      "metadata": {
        "id": "aFjUw20SVRGO",
        "colab_type": "code",
        "colab": {
          "base_uri": "https://localhost:8080/",
          "height": 310
        },
        "outputId": "c2bda3e3-eeeb-4fe3-97a5-bf2534fa1685"
      },
      "source": [
        "import matplotlib\n",
        "import matplotlib.pyplot as plt\n",
        "import matplotlib.font_manager as fm\n",
        "\n",
        "font_path = '/usr/share/fonts/truetype/nanum/NanumBarunGothic.ttf'\n",
        "fontprop = fm.FontProperties(fname=font_path,size=18)\n",
        "\n",
        "def movie_compare(review_lists):\n",
        "  count = 1\n",
        "  x = []\n",
        "  y = []\n",
        "  for movie,review_list in review_lists:\n",
        "    x.append(count)\n",
        "    summary = get_summary(review_list)\n",
        "    summary = summary[summary['Score']>0.8]\n",
        "    y.append(summary['Star '].mean())\n",
        "    count+=1\n",
        "  plt.bar(x,y)\n",
        "  plt.title('영화 별점 비교',fontproperties=fontprop)\n",
        "  plt.xlabel('영화 번호', fontproperties=fontprop)\n",
        "  plt.ylabel('신뢰성 별점 평균',fontproperties=fontprop)\n",
        "  plt.show()\n",
        "movie_compare(review_lists)\n"
      ],
      "execution_count": 7,
      "outputs": [
        {
          "output_type": "display_data",
          "data": {
            "image/png": "[encoded data removed]",
            "text/plain": [
              "<Figure size 432x288 with 1 Axes>"
            ]
          },
          "metadata": {
            "tags": []
          }
        }
      ]
    },
    {
      "cell_type": "code",
      "metadata": {
        "id": "a7xS0fWPWmVQ",
        "colab_type": "code",
        "colab": {}
      },
      "source": [
        ""
      ],
      "execution_count": 0,
      "outputs": []
    }
  ]
}